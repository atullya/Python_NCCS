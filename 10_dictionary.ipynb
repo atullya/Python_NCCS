{
 "cells": [
  {
   "cell_type": "code",
   "execution_count": 1,
   "metadata": {},
   "outputs": [
    {
     "name": "stdout",
     "output_type": "stream",
     "text": [
      "{} <class 'dict'>\n"
     ]
    }
   ],
   "source": [
    "d1={}\n",
    "print(d1,type(d1))"
   ]
  },
  {
   "cell_type": "code",
   "execution_count": 2,
   "metadata": {},
   "outputs": [
    {
     "name": "stdout",
     "output_type": "stream",
     "text": [
      "{} <class 'dict'>\n"
     ]
    }
   ],
   "source": [
    "d2=dict()\n",
    "print(d2,type(d2))"
   ]
  },
  {
   "cell_type": "code",
   "execution_count": 5,
   "metadata": {},
   "outputs": [
    {
     "name": "stdout",
     "output_type": "stream",
     "text": [
      "1 <class 'dict'>\n"
     ]
    }
   ],
   "source": [
    "d3={'a':1,'b':[1,2],'c':1.1}\n",
    "print(d3['a'],type(d3))"
   ]
  },
  {
   "cell_type": "code",
   "execution_count": 7,
   "metadata": {},
   "outputs": [
    {
     "name": "stdout",
     "output_type": "stream",
     "text": [
      "DEFAULT\n"
     ]
    }
   ],
   "source": [
    "print(d1.get('first_key','DEFAULT'))"
   ]
  },
  {
   "cell_type": "code",
   "execution_count": 9,
   "metadata": {},
   "outputs": [
    {
     "data": {
      "text/plain": [
       "{'first_key': 100}"
      ]
     },
     "execution_count": 9,
     "metadata": {},
     "output_type": "execute_result"
    }
   ],
   "source": [
    "d1['first_key']=100\n",
    "d1"
   ]
  },
  {
   "cell_type": "code",
   "execution_count": 14,
   "metadata": {},
   "outputs": [
    {
     "data": {
      "text/plain": [
       "{'first_key': []}"
      ]
     },
     "execution_count": 14,
     "metadata": {},
     "output_type": "execute_result"
    }
   ],
   "source": [
    "d1['first_key']=[]\n",
    "d1"
   ]
  },
  {
   "cell_type": "code",
   "execution_count": 15,
   "metadata": {},
   "outputs": [
    {
     "data": {
      "text/plain": [
       "[1]"
      ]
     },
     "execution_count": 15,
     "metadata": {},
     "output_type": "execute_result"
    }
   ],
   "source": [
    "d1['first_key'].append(1)\n",
    "d1['first_key']"
   ]
  },
  {
   "cell_type": "code",
   "execution_count": 17,
   "metadata": {},
   "outputs": [
    {
     "data": {
      "text/plain": [
       "{'a': 1, 'b': 2}"
      ]
     },
     "execution_count": 17,
     "metadata": {},
     "output_type": "execute_result"
    }
   ],
   "source": [
    "d1={'a':1}\n",
    "d2={'b':2}\n",
    "d1.update(d2)\n",
    "d1"
   ]
  },
  {
   "cell_type": "code",
   "execution_count": 18,
   "metadata": {},
   "outputs": [
    {
     "data": {
      "text/plain": [
       "dict_keys(['a', 'b', 'c'])"
      ]
     },
     "execution_count": 18,
     "metadata": {},
     "output_type": "execute_result"
    }
   ],
   "source": [
    "d3.keys()"
   ]
  },
  {
   "cell_type": "code",
   "execution_count": 19,
   "metadata": {},
   "outputs": [
    {
     "data": {
      "text/plain": [
       "dict_values([1, [1, 2], 1.1])"
      ]
     },
     "execution_count": 19,
     "metadata": {},
     "output_type": "execute_result"
    }
   ],
   "source": [
    "d3.values()"
   ]
  },
  {
   "cell_type": "code",
   "execution_count": 21,
   "metadata": {},
   "outputs": [
    {
     "name": "stdout",
     "output_type": "stream",
     "text": [
      "before {'a': 1, 'b': [1, 2], 'c': 1.1}\n",
      "popped_value=1\n",
      "After {'b': [1, 2], 'c': 1.1}\n"
     ]
    }
   ],
   "source": [
    "print('before',d3)\n",
    "popped_value=d3.pop('a')\n",
    "print(f\"{popped_value=}\")\n",
    "\n",
    "print('After',d3)"
   ]
  },
  {
   "cell_type": "code",
   "execution_count": 22,
   "metadata": {},
   "outputs": [
    {
     "name": "stdout",
     "output_type": "stream",
     "text": [
      "before {'b': [1, 2], 'c': 1.1}\n",
      "popped_value=('c', 1.1)\n",
      "After {'b': [1, 2]}\n"
     ]
    }
   ],
   "source": [
    "print('before',d3)\n",
    "popped_value=d3.popitem()\n",
    "print(f\"{popped_value=}\")\n",
    "\n",
    "print('After',d3)"
   ]
  },
  {
   "cell_type": "code",
   "execution_count": 23,
   "metadata": {},
   "outputs": [
    {
     "name": "stdout",
     "output_type": "stream",
     "text": [
      "before {'b': [1, 2]}\n",
      "After {}\n"
     ]
    }
   ],
   "source": [
    "print('before',d3)\n",
    "del d3['b']\n",
    "\n",
    "print('After',d3)"
   ]
  },
  {
   "cell_type": "code",
   "execution_count": 24,
   "metadata": {},
   "outputs": [
    {
     "name": "stdout",
     "output_type": "stream",
     "text": [
      "before {}\n",
      "After {'fruit': None}\n"
     ]
    }
   ],
   "source": [
    "print('before',d3)\n",
    "d3.setdefault('fruit')\n",
    "\n",
    "print('After',d3)"
   ]
  },
  {
   "cell_type": "code",
   "execution_count": 25,
   "metadata": {},
   "outputs": [
    {
     "name": "stdout",
     "output_type": "stream",
     "text": [
      "before {'fruit': None}\n",
      "After {'fruit': None}\n"
     ]
    }
   ],
   "source": [
    "print('before',d3)\n",
    "d3['fruit']=None\n",
    "\n",
    "print('After',d3)"
   ]
  },
  {
   "cell_type": "code",
   "execution_count": 26,
   "metadata": {},
   "outputs": [
    {
     "name": "stdout",
     "output_type": "stream",
     "text": [
      "Before: {'a': 1, 'b': 2, 'c': 3}\n",
      "new_d={'a': None, 'b': None}\n",
      "After: {'a': 1, 'b': 2, 'c': 3}\n"
     ]
    }
   ],
   "source": [
    "d1={'a':1,'b':2,'c':3}\n",
    "print(\"Before:\",d1)\n",
    "new_d=d1.fromkeys(['a','b'])\n",
    "print(f\"{new_d=}\")\n",
    "print(\"After:\",d1)"
   ]
  },
  {
   "cell_type": "code",
   "execution_count": 28,
   "metadata": {},
   "outputs": [
    {
     "name": "stdout",
     "output_type": "stream",
     "text": [
      "Before: {'a': 1, 'b': 2, 'c': 3}\n",
      "k_v=dict_items([('a', 1), ('b', 2), ('c', 3)])\n",
      "After: {'a': 1, 'b': 2, 'c': 3}\n"
     ]
    }
   ],
   "source": [
    "d1={'a':1,'b':2,'c':3}\n",
    "print(\"Before:\",d1)\n",
    "k_v=d1.items()\n",
    "print(f\"{k_v=}\")\n",
    "print(\"After:\",d1)"
   ]
  },
  {
   "cell_type": "code",
   "execution_count": 29,
   "metadata": {},
   "outputs": [
    {
     "name": "stdout",
     "output_type": "stream",
     "text": [
      "value is greater than 4\n"
     ]
    }
   ],
   "source": [
    "val=5\n",
    "if val>4:\n",
    "    print('value is greater than 4')\n",
    "elif val<4:\n",
    "    print('val is samller thatn 4')\n",
    "else:\n",
    "    print('Value is greater than 5')"
   ]
  },
  {
   "cell_type": "markdown",
   "metadata": {},
   "source": [
    "### Switch\n"
   ]
  },
  {
   "cell_type": "code",
   "execution_count": 30,
   "metadata": {},
   "outputs": [
    {
     "name": "stdout",
     "output_type": "stream",
     "text": [
      "its case 2\n"
     ]
    }
   ],
   "source": [
    "val=2\n",
    "match val:\n",
    "    case 1:\n",
    "        print('its case 1')\n",
    "    case 2:\n",
    "        print('its case 2')\n",
    "    case 3:\n",
    "        print('its case 3')\n",
    "    case _:\n",
    "        print(\"default\")"
   ]
  }
 ],
 "metadata": {
  "kernelspec": {
   "display_name": "base",
   "language": "python",
   "name": "python3"
  },
  "language_info": {
   "codemirror_mode": {
    "name": "ipython",
    "version": 3
   },
   "file_extension": ".py",
   "mimetype": "text/x-python",
   "name": "python",
   "nbconvert_exporter": "python",
   "pygments_lexer": "ipython3",
   "version": "3.12.7"
  }
 },
 "nbformat": 4,
 "nbformat_minor": 2
}
