{
 "cells": [
  {
   "cell_type": "code",
   "execution_count": 1,
   "metadata": {},
   "outputs": [],
   "source": [
    "l1 = []"
   ]
  },
  {
   "cell_type": "code",
   "execution_count": 2,
   "metadata": {},
   "outputs": [
    {
     "name": "stdout",
     "output_type": "stream",
     "text": [
      "[] <class 'list'>\n"
     ]
    }
   ],
   "source": [
    "print (l1, type(l1))"
   ]
  },
  {
   "cell_type": "code",
   "execution_count": 4,
   "metadata": {},
   "outputs": [
    {
     "name": "stdout",
     "output_type": "stream",
     "text": [
      "[] <class 'list'>\n"
     ]
    }
   ],
   "source": [
    "l2 = list()\n",
    "print (l2, type(l2))"
   ]
  },
  {
   "cell_type": "code",
   "execution_count": 5,
   "metadata": {},
   "outputs": [
    {
     "name": "stdout",
     "output_type": "stream",
     "text": [
      "[1, 2, 3, 4] <class 'list'>\n"
     ]
    }
   ],
   "source": [
    "l3 = [1, 2, 3, 4]\n",
    "print (l3, type(l3))"
   ]
  },
  {
   "cell_type": "code",
   "execution_count": 6,
   "metadata": {},
   "outputs": [
    {
     "name": "stdout",
     "output_type": "stream",
     "text": [
      "Before:  []\n",
      "After:  [1]\n"
     ]
    }
   ],
   "source": [
    "print (\"Before: \", l1)\n",
    "l1.append(1)\n",
    "print (\"After: \", l1)"
   ]
  },
  {
   "cell_type": "code",
   "execution_count": 7,
   "metadata": {},
   "outputs": [
    {
     "name": "stdout",
     "output_type": "stream",
     "text": [
      "Before:  [1]\n",
      "After:  [1, 'New value']\n"
     ]
    }
   ],
   "source": [
    "print (\"Before: \", l1)\n",
    "l1.append('New value')\n",
    "print (\"After: \", l1)"
   ]
  },
  {
   "cell_type": "code",
   "execution_count": 8,
   "metadata": {},
   "outputs": [
    {
     "name": "stdout",
     "output_type": "stream",
     "text": [
      "Before:  [1, 'New value']\n",
      "After:  [1, 'New value', [1, 2, 3, 4]]\n"
     ]
    }
   ],
   "source": [
    "print (\"Before: \", l1)\n",
    "l1.append(l3)\n",
    "print (\"After: \", l1)"
   ]
  },
  {
   "cell_type": "code",
   "execution_count": 9,
   "metadata": {},
   "outputs": [
    {
     "name": "stdout",
     "output_type": "stream",
     "text": [
      "Before:  [1, 'New value', [1, 2, 3, 4]]\n",
      "After:  [1, 'inserted', 'New value', [1, 2, 3, 4]]\n"
     ]
    }
   ],
   "source": [
    "print (\"Before: \", l1)\n",
    "l1.insert(1, 'inserted')\n",
    "print (\"After: \", l1)"
   ]
  },
  {
   "cell_type": "code",
   "execution_count": 10,
   "metadata": {},
   "outputs": [
    {
     "name": "stdout",
     "output_type": "stream",
     "text": [
      "Before:  [1, 'inserted', 'New value', [1, 2, 3, 4]]\n",
      "After:  [1, 'inserted', 'New value', [1, 2, 3, 4], 1, 2, 3, 4]\n"
     ]
    }
   ],
   "source": [
    "print (\"Before: \", l1)\n",
    "l1.extend(l3)\n",
    "print (\"After: \", l1)"
   ]
  },
  {
   "cell_type": "code",
   "execution_count": 11,
   "metadata": {},
   "outputs": [
    {
     "name": "stdout",
     "output_type": "stream",
     "text": [
      "Before:  [1, 'inserted', 'New value', [1, 2, 3, 4], 1, 2, 3, 4]\n",
      "After:  ['inserted', 'New value', [1, 2, 3, 4], 1, 2, 3, 4]\n"
     ]
    }
   ],
   "source": [
    "print (\"Before: \", l1)\n",
    "l1.remove(1)\n",
    "print (\"After: \", l1)\n",
    "#removes first occurence"
   ]
  },
  {
   "cell_type": "code",
   "execution_count": 12,
   "metadata": {},
   "outputs": [
    {
     "name": "stdout",
     "output_type": "stream",
     "text": [
      "Before:  ['inserted', 'New value', [1, 2, 3, 4], 1, 2, 3, 4]\n",
      "Popped value 4\n",
      "After:  ['inserted', 'New value', [1, 2, 3, 4], 1, 2, 3]\n"
     ]
    }
   ],
   "source": [
    "print (\"Before: \", l1)\n",
    "popped_value = l1.pop()\n",
    "print(\"Popped value\", popped_value)\n",
    "print (\"After: \", l1)"
   ]
  },
  {
   "cell_type": "code",
   "execution_count": 13,
   "metadata": {},
   "outputs": [
    {
     "name": "stdout",
     "output_type": "stream",
     "text": [
      "Before:  ['inserted', 'New value', [1, 2, 3, 4], 1, 2, 3]\n",
      "After:  [3, 2, 1, [1, 2, 3, 4], 'New value', 'inserted']\n"
     ]
    }
   ],
   "source": [
    "print (\"Before: \", l1)\n",
    "l1.reverse()\n",
    "print (\"After: \", l1)"
   ]
  },
  {
   "cell_type": "code",
   "execution_count": 14,
   "metadata": {},
   "outputs": [
    {
     "name": "stdout",
     "output_type": "stream",
     "text": [
      "Before:  [3, 2, 1, [1, 2, 3, 4], 'New value', 'inserted']\n",
      "Index:  4\n"
     ]
    }
   ],
   "source": [
    "print (\"Before: \", l1)\n",
    "idx = l1.index(\"New value\")\n",
    "print (\"Index: \", idx)"
   ]
  },
  {
   "cell_type": "code",
   "execution_count": 15,
   "metadata": {},
   "outputs": [
    {
     "name": "stdout",
     "output_type": "stream",
     "text": [
      "Before:  [1, 6, 3, 2, 9, 0, 8]\n",
      "After:  [9, 8, 6, 3, 2, 1, 0]\n"
     ]
    }
   ],
   "source": [
    "l4 = [1, 6, 3, 2, 9, 0, 8]\n",
    "print (\"Before: \", l4)\n",
    "l4.sort(reverse = True)\n",
    "print (\"After: \", l4)"
   ]
  },
  {
   "cell_type": "code",
   "execution_count": 16,
   "metadata": {},
   "outputs": [],
   "source": [
    "l1 = [1,2,3,4,5,6,7,8,9]"
   ]
  },
  {
   "cell_type": "code",
   "execution_count": 17,
   "metadata": {},
   "outputs": [
    {
     "data": {
      "text/plain": [
       "2"
      ]
     },
     "execution_count": 17,
     "metadata": {},
     "output_type": "execute_result"
    }
   ],
   "source": [
    "l1[1]"
   ]
  },
  {
   "cell_type": "markdown",
   "metadata": {},
   "source": [
    "Slicing"
   ]
  },
  {
   "cell_type": "code",
   "execution_count": 18,
   "metadata": {},
   "outputs": [
    {
     "data": {
      "text/plain": [
       "[1, 2, 3, 4, 5, 6, 7, 8, 9]"
      ]
     },
     "execution_count": 18,
     "metadata": {},
     "output_type": "execute_result"
    }
   ],
   "source": [
    "l1[0:9:1]\n",
    "#[start index: end index: step] -> [0, 9)"
   ]
  },
  {
   "cell_type": "code",
   "execution_count": 19,
   "metadata": {},
   "outputs": [
    {
     "data": {
      "text/plain": [
       "[3, 5]"
      ]
     },
     "execution_count": 19,
     "metadata": {},
     "output_type": "execute_result"
    }
   ],
   "source": [
    "l1[2:6:2]"
   ]
  },
  {
   "cell_type": "code",
   "execution_count": 20,
   "metadata": {},
   "outputs": [
    {
     "data": {
      "text/plain": [
       "[9, 8, 7, 6, 5, 4, 3, 2, 1]"
      ]
     },
     "execution_count": 20,
     "metadata": {},
     "output_type": "execute_result"
    }
   ],
   "source": [
    "l1[::-1]"
   ]
  },
  {
   "cell_type": "code",
   "execution_count": 21,
   "metadata": {},
   "outputs": [
    {
     "data": {
      "text/plain": [
       "[8, 7, 6, 5]"
      ]
     },
     "execution_count": 21,
     "metadata": {},
     "output_type": "execute_result"
    }
   ],
   "source": [
    "l1[-2:-6:-1]"
   ]
  }
 ],
 "metadata": {
  "kernelspec": {
   "display_name": "Python 3",
   "language": "python",
   "name": "python3"
  },
  "language_info": {
   "codemirror_mode": {
    "name": "ipython",
    "version": 3
   },
   "file_extension": ".py",
   "mimetype": "text/x-python",
   "name": "python",
   "nbconvert_exporter": "python",
   "pygments_lexer": "ipython3",
   "version": "3.13.0"
  }
 },
 "nbformat": 4,
 "nbformat_minor": 2
}
