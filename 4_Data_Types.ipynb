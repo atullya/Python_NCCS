{
 "cells": [
  {
   "cell_type": "markdown",
   "metadata": {},
   "source": [
    "\n",
    "### `Primitive Data Types`\n",
    "- Data Type of variable or data can be identified with syntax\n",
    "- type(variable_name)\n",
    "- Single or double quotation mark or both can be used in string datatype."
   ]
  },
  {
   "cell_type": "code",
   "execution_count": 1,
   "metadata": {},
   "outputs": [
    {
     "name": "stdout",
     "output_type": "stream",
     "text": [
      "This is string variable. <class 'str'>\n",
      "This is also string variable. <class 'str'>\n",
      "It's his book. <class 'str'>\n",
      "This is the example\n",
      "for multiline string. Did you\n",
      "get it?\n",
      "sdfjifgasf\n",
      "it's\n",
      "ashdgfbs\"\" \"\"\n",
      "sagfhbs <class 'str'>\n"
     ]
    }
   ],
   "source": [
    "#STRING\n",
    "string_variable_1 = \"This is string variable.\"\n",
    "string_variable_2 = 'This is also string variable.'\n",
    "string_variable_3 = \"It's his book.\"\n",
    "string_variable_4 = \"It is 'his' 'book'.\"\n",
    "\n",
    "multiline_string = '''This is the example\n",
    "for multiline string. Did you\n",
    "get it?\n",
    "sdfjifgasf\n",
    "it's\n",
    "ashdgfbs\"\" \"\"\n",
    "sagfhbs'''\n",
    "\n",
    "print(string_variable_1, type(string_variable_1))\n",
    "print(string_variable_2, type(string_variable_2))\n",
    "print(string_variable_3, type(string_variable_3))\n",
    "print(multiline_string, type(multiline_string))"
   ]
  },
  {
   "cell_type": "code",
   "execution_count": 2,
   "metadata": {},
   "outputs": [
    {
     "name": "stdout",
     "output_type": "stream",
     "text": [
      "length of string is  5\n"
     ]
    }
   ],
   "source": [
    "# determine number of characters in the string including white spaces\n",
    "text1 = 'NCCS '\n",
    "text2 = \"is college\"\n",
    "# text1, text1 = 'NCCS', \"is college\"\n",
    "length =  len(text1)\n",
    "print(\"length of string is \", length)"
   ]
  },
  {
   "cell_type": "code",
   "execution_count": 3,
   "metadata": {},
   "outputs": [
    {
     "name": "stdout",
     "output_type": "stream",
     "text": [
      "a before  5 <class 'int'>\n",
      "a after  has some value <class 'str'>\n"
     ]
    }
   ],
   "source": [
    "a = 5\n",
    "print('a before ', a, type(a))\n",
    "a = \" has some value\"\n",
    "print('a after', a, type(a))"
   ]
  },
  {
   "cell_type": "code",
   "execution_count": 4,
   "metadata": {},
   "outputs": [
    {
     "name": "stdout",
     "output_type": "stream",
     "text": [
      "15.1 <class 'float'>\n"
     ]
    }
   ],
   "source": [
    "b = 15\n",
    "b += 0.1\n",
    "print(b, type(b))"
   ]
  },
  {
   "cell_type": "markdown",
   "metadata": {},
   "source": [
    "### `String Formating`\n",
    " Formating with '%' operator\n",
    "- %s -- injects strings\n",
    "- %d -- injects integers\n",
    "- %b -- injects binary format.\n",
    "- %f -- injects floating-point number   \n",
    "Precison of floating-point number can be handled with format %a.bf where a represents minimum number of digits to be present in string and b represents the number of digits to be included that appears after the decimal."
   ]
  },
  {
   "cell_type": "code",
   "execution_count": 5,
   "metadata": {},
   "outputs": [
    {
     "name": "stdout",
     "output_type": "stream",
     "text": [
      "He is a five\n"
     ]
    }
   ],
   "source": [
    "var1 = \"He is a %s\"%'five'\n",
    "print(var1)"
   ]
  },
  {
   "cell_type": "markdown",
   "metadata": {},
   "source": [
    "Formating with 'format()' method."
   ]
  },
  {
   "cell_type": "code",
   "execution_count": null,
   "metadata": {},
   "outputs": [
    {
     "ename": "IndentationError",
     "evalue": "unexpected indent (2008660854.py, line 4)",
     "output_type": "error",
     "traceback": [
      "\u001b[1;36m  Cell \u001b[1;32mIn[7], line 4\u001b[1;36m\u001b[0m\n\u001b[1;33m    txt = 'Number is {}'.format(2.0032425)\u001b[0m\n\u001b[1;37m    ^\u001b[0m\n\u001b[1;31mIndentationError\u001b[0m\u001b[1;31m:\u001b[0m unexpected indent\n"
     ]
    }
   ],
   "source": [
    "# # Syntax\n",
    "#     #'Formating string with {} method'.format('format()')\n",
    "# # Example\n",
    "#     txt = 'Number is {}'.format(2.0032425)\n",
    "#     print(txt)\n",
    "\n",
    "#     # Index based insertion\n",
    "#     txt = '{1} is {0}'.format('unique', 'Number')\n",
    "#     print(txt)\n",
    "\n",
    "#     # Keyword based insertion\n",
    "#     txt = '{} is {}'.format(a='Number', b='')"
   ]
  },
  {
   "cell_type": "code",
   "execution_count": 8,
   "metadata": {},
   "outputs": [
    {
     "data": {
      "text/plain": [
       "'this is a sentence abc'"
      ]
     },
     "execution_count": 8,
     "metadata": {},
     "output_type": "execute_result"
    }
   ],
   "source": [
    "a = 'this is a sentence {}'.format('abc')\n",
    "a"
   ]
  },
  {
   "cell_type": "code",
   "execution_count": 9,
   "metadata": {},
   "outputs": [
    {
     "name": "stdout",
     "output_type": "stream",
     "text": [
      "The value is ooooo\n"
     ]
    }
   ],
   "source": [
    "txt = \"The value is {}\".format('ooooo')\n",
    "print(txt)"
   ]
  },
  {
   "cell_type": "code",
   "execution_count": 10,
   "metadata": {},
   "outputs": [
    {
     "name": "stdout",
     "output_type": "stream",
     "text": [
      "Number is jggasjdkfba - nccs\n"
     ]
    }
   ],
   "source": [
    "# Formating with `format()` string method.\n",
    "txt = 'Number is {} - {}'.format('jggasjdkfba', 'nccs')\n",
    "print(txt)"
   ]
  },
  {
   "cell_type": "code",
   "execution_count": 11,
   "metadata": {},
   "outputs": [
    {
     "name": "stdout",
     "output_type": "stream",
     "text": [
      "Number is 5 - jggasjdkfba\n"
     ]
    }
   ],
   "source": [
    "# Formating with `format()` string method.\n",
    "txt = 'Number is {2} - {0}'.format('jggasjdkfba', 'nccs', 5)\n",
    "print(txt)"
   ]
  },
  {
   "cell_type": "code",
   "execution_count": 12,
   "metadata": {},
   "outputs": [
    {
     "name": "stdout",
     "output_type": "stream",
     "text": [
      "Number is 5 - jggasjdkfba\n"
     ]
    }
   ],
   "source": [
    "# Formating with `format()` string method.\n",
    "txt = 'Number is {val} - {txt}'.format(txt='jggasjdkfba', name='nccs', val=5)\n",
    "print(txt)"
   ]
  },
  {
   "cell_type": "markdown",
   "metadata": {},
   "source": [
    " Formating woth f-string\n",
    "# Syntax\n",
    "    txt = 'f-string'\n",
    "    f'Formating string with {txt}'"
   ]
  },
  {
   "cell_type": "code",
   "execution_count": 13,
   "metadata": {},
   "outputs": [
    {
     "name": "stdout",
     "output_type": "stream",
     "text": [
      "He is 10 years old\n"
     ]
    }
   ],
   "source": [
    "age = 10\n",
    "txt = f'He is {age} years old'\n",
    "print(txt)"
   ]
  },
  {
   "cell_type": "code",
   "execution_count": null,
   "metadata": {},
   "outputs": [],
   "source": [
    "# String Methods\n",
    "# len(), upper(), lower(), title(), swapcase(), capitalize(), endswith(), startswith(), strip(), split(), replace()"
   ]
  },
  {
   "cell_type": "code",
   "execution_count": 14,
   "metadata": {},
   "outputs": [
    {
     "data": {
      "text/plain": [
       "21"
      ]
     },
     "execution_count": 14,
     "metadata": {},
     "output_type": "execute_result"
    }
   ],
   "source": [
    "tst = \"NCCS is in Kathmandu.\"\n",
    "len(tst)"
   ]
  },
  {
   "cell_type": "code",
   "execution_count": 15,
   "metadata": {},
   "outputs": [
    {
     "data": {
      "text/plain": [
       "'NCCS IS IN KATHMANDU.'"
      ]
     },
     "execution_count": 15,
     "metadata": {},
     "output_type": "execute_result"
    }
   ],
   "source": [
    "tst.upper()"
   ]
  },
  {
   "cell_type": "code",
   "execution_count": 16,
   "metadata": {},
   "outputs": [
    {
     "data": {
      "text/plain": [
       "'nccs is in kathmandu.'"
      ]
     },
     "execution_count": 16,
     "metadata": {},
     "output_type": "execute_result"
    }
   ],
   "source": [
    "tst.lower()"
   ]
  },
  {
   "cell_type": "code",
   "execution_count": 17,
   "metadata": {},
   "outputs": [
    {
     "data": {
      "text/plain": [
       "'Nccs Is In Kathmandu.'"
      ]
     },
     "execution_count": 17,
     "metadata": {},
     "output_type": "execute_result"
    }
   ],
   "source": [
    "tst.title()"
   ]
  },
  {
   "cell_type": "code",
   "execution_count": 18,
   "metadata": {},
   "outputs": [
    {
     "data": {
      "text/plain": [
       "'nccs IS IN kATHMANDU.'"
      ]
     },
     "execution_count": 18,
     "metadata": {},
     "output_type": "execute_result"
    }
   ],
   "source": [
    "tst.swapcase()"
   ]
  },
  {
   "cell_type": "code",
   "execution_count": 19,
   "metadata": {},
   "outputs": [
    {
     "data": {
      "text/plain": [
       "'Nccs is in kathmandu.'"
      ]
     },
     "execution_count": 19,
     "metadata": {},
     "output_type": "execute_result"
    }
   ],
   "source": [
    "tst.capitalize()"
   ]
  },
  {
   "cell_type": "code",
   "execution_count": 20,
   "metadata": {},
   "outputs": [
    {
     "data": {
      "text/plain": [
       "True"
      ]
     },
     "execution_count": 20,
     "metadata": {},
     "output_type": "execute_result"
    }
   ],
   "source": [
    "tst.startswith(\"NCC\")"
   ]
  },
  {
   "cell_type": "code",
   "execution_count": 21,
   "metadata": {},
   "outputs": [
    {
     "data": {
      "text/plain": [
       "True"
      ]
     },
     "execution_count": 21,
     "metadata": {},
     "output_type": "execute_result"
    }
   ],
   "source": [
    "tst.endswith(\"u.\")"
   ]
  },
  {
   "cell_type": "code",
   "execution_count": 22,
   "metadata": {},
   "outputs": [
    {
     "data": {
      "text/plain": [
       "['NCCS is i', ' Kathma', 'du.']"
      ]
     },
     "execution_count": 22,
     "metadata": {},
     "output_type": "execute_result"
    }
   ],
   "source": [
    "tst.split('n')"
   ]
  },
  {
   "cell_type": "code",
   "execution_count": 23,
   "metadata": {},
   "outputs": [
    {
     "data": {
      "text/plain": [
       "'NCCS is in hdhhsmandu.'"
      ]
     },
     "execution_count": 23,
     "metadata": {},
     "output_type": "execute_result"
    }
   ],
   "source": [
    "tst.replace('Kath', 'hdhhs')"
   ]
  },
  {
   "cell_type": "code",
   "execution_count": 25,
   "metadata": {},
   "outputs": [],
   "source": [
    "tst2 = '          This is string with whitespace. '  "
   ]
  },
  {
   "cell_type": "code",
   "execution_count": 26,
   "metadata": {},
   "outputs": [
    {
     "data": {
      "text/plain": [
       "'This is string with whitespace.'"
      ]
     },
     "execution_count": 26,
     "metadata": {},
     "output_type": "execute_result"
    }
   ],
   "source": [
    "tst2.strip()"
   ]
  },
  {
   "cell_type": "code",
   "execution_count": 27,
   "metadata": {},
   "outputs": [
    {
     "data": {
      "text/plain": [
       "'This is string with whitespace. '"
      ]
     },
     "execution_count": 27,
     "metadata": {},
     "output_type": "execute_result"
    }
   ],
   "source": [
    "tst2.lstrip()"
   ]
  },
  {
   "cell_type": "code",
   "execution_count": 28,
   "metadata": {},
   "outputs": [
    {
     "data": {
      "text/plain": [
       "'          This is string with whitespace.'"
      ]
     },
     "execution_count": 28,
     "metadata": {},
     "output_type": "execute_result"
    }
   ],
   "source": [
    "tst2.rstrip()"
   ]
  },
  {
   "cell_type": "code",
   "execution_count": 29,
   "metadata": {},
   "outputs": [
    {
     "data": {
      "text/plain": [
       "False"
      ]
     },
     "execution_count": 29,
     "metadata": {},
     "output_type": "execute_result"
    }
   ],
   "source": [
    "tst3 = \"abc123@\"\n",
    "tst3.isalnum()"
   ]
  },
  {
   "cell_type": "code",
   "execution_count": 30,
   "metadata": {},
   "outputs": [
    {
     "data": {
      "text/plain": [
       "False"
      ]
     },
     "execution_count": 30,
     "metadata": {},
     "output_type": "execute_result"
    }
   ],
   "source": [
    "False"
   ]
  },
  {
   "cell_type": "code",
   "execution_count": 31,
   "metadata": {},
   "outputs": [
    {
     "data": {
      "text/plain": [
       "'abc123@'"
      ]
     },
     "execution_count": 31,
     "metadata": {},
     "output_type": "execute_result"
    }
   ],
   "source": [
    "tst3\n"
   ]
  },
  {
   "cell_type": "markdown",
   "metadata": {},
   "source": [
    "2. Integer\n",
    "- Non-Fractional Numbers"
   ]
  },
  {
   "cell_type": "code",
   "execution_count": 32,
   "metadata": {},
   "outputs": [
    {
     "name": "stdout",
     "output_type": "stream",
     "text": [
      "5 <class 'int'>\n",
      "-3000\n"
     ]
    }
   ],
   "source": [
    "integer_variable_1 = 5\n",
    "integer_variable_2 = -3000\n",
    "\n",
    "print(integer_variable_1, type(integer_variable_1))\n",
    "print(integer_variable_2)"
   ]
  },
  {
   "cell_type": "markdown",
   "metadata": {},
   "source": [
    "2. Float\n",
    "- Fractional Numbers"
   ]
  },
  {
   "cell_type": "code",
   "execution_count": 33,
   "metadata": {},
   "outputs": [
    {
     "name": "stdout",
     "output_type": "stream",
     "text": [
      "5.0 <class 'float'>\n",
      "-100.3 <class 'float'>\n"
     ]
    }
   ],
   "source": [
    "float_variable_1 = 5.0\n",
    "float_variable_2 = -100.3\n",
    "\n",
    "print(float_variable_1, type(float_variable_1))\n",
    "print(float_variable_2, type(float_variable_1))"
   ]
  },
  {
   "cell_type": "markdown",
   "metadata": {},
   "source": [
    "3. Boolean\n",
    "- Either True or False\n",
    "- Boolean False is equivalent to integer 0 or float 0, or empty list, string, tuple, set, dictionary, None."
   ]
  }
 ],
 "metadata": {
  "kernelspec": {
   "display_name": "Python 3",
   "language": "python",
   "name": "python3"
  },
  "language_info": {
   "codemirror_mode": {
    "name": "ipython",
    "version": 3
   },
   "file_extension": ".py",
   "mimetype": "text/x-python",
   "name": "python",
   "nbconvert_exporter": "python",
   "pygments_lexer": "ipython3",
   "version": "3.13.0"
  }
 },
 "nbformat": 4,
 "nbformat_minor": 2
}
