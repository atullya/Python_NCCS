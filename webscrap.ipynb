{
 "cells": [
  {
   "cell_type": "code",
   "execution_count": 17,
   "metadata": {},
   "outputs": [
    {
     "name": "stdout",
     "output_type": "stream",
     "text": [
      "Requirement already satisfied: requests in c:\\users\\atulm\\desktop\\python\\python_nccs\\myenv\\lib\\site-packages (2.32.3)\n",
      "Collecting beautifulsoup4\n",
      "  Downloading beautifulsoup4-4.13.3-py3-none-any.whl.metadata (3.8 kB)\n",
      "Requirement already satisfied: charset-normalizer<4,>=2 in c:\\users\\atulm\\desktop\\python\\python_nccs\\myenv\\lib\\site-packages (from requests) (3.4.1)\n",
      "Requirement already satisfied: idna<4,>=2.5 in c:\\users\\atulm\\desktop\\python\\python_nccs\\myenv\\lib\\site-packages (from requests) (3.10)\n",
      "Requirement already satisfied: urllib3<3,>=1.21.1 in c:\\users\\atulm\\desktop\\python\\python_nccs\\myenv\\lib\\site-packages (from requests) (2.3.0)\n",
      "Requirement already satisfied: certifi>=2017.4.17 in c:\\users\\atulm\\desktop\\python\\python_nccs\\myenv\\lib\\site-packages (from requests) (2024.12.14)\n",
      "Collecting soupsieve>1.2 (from beautifulsoup4)\n",
      "  Downloading soupsieve-2.6-py3-none-any.whl.metadata (4.6 kB)\n",
      "Requirement already satisfied: typing-extensions>=4.0.0 in c:\\users\\atulm\\desktop\\python\\python_nccs\\myenv\\lib\\site-packages (from beautifulsoup4) (4.12.2)\n",
      "Downloading beautifulsoup4-4.13.3-py3-none-any.whl (186 kB)\n",
      "Downloading soupsieve-2.6-py3-none-any.whl (36 kB)\n",
      "Installing collected packages: soupsieve, beautifulsoup4\n",
      "Successfully installed beautifulsoup4-4.13.3 soupsieve-2.6\n"
     ]
    },
    {
     "name": "stderr",
     "output_type": "stream",
     "text": [
      "\n",
      "[notice] A new release of pip is available: 24.3.1 -> 25.0.1\n",
      "[notice] To update, run: python.exe -m pip install --upgrade pip\n"
     ]
    }
   ],
   "source": [
    "!pip install requests beautifulsoup4\n",
    "\n"
   ]
  },
  {
   "cell_type": "code",
   "execution_count": 18,
   "metadata": {},
   "outputs": [
    {
     "name": "stdout",
     "output_type": "stream",
     "text": [
      "Found 21 images for nature landscape\n"
     ]
    },
    {
     "name": "stderr",
     "output_type": "stream",
     "text": [
      "100%|██████████| 21/21 [00:05<00:00,  3.56it/s]\n"
     ]
    },
    {
     "name": "stdout",
     "output_type": "stream",
     "text": [
      "Found 21 images for city landscape\n"
     ]
    },
    {
     "name": "stderr",
     "output_type": "stream",
     "text": [
      "100%|██████████| 21/21 [00:06<00:00,  3.36it/s]"
     ]
    },
    {
     "name": "stdout",
     "output_type": "stream",
     "text": [
      "Image scraping complete!\n"
     ]
    },
    {
     "name": "stderr",
     "output_type": "stream",
     "text": [
      "\n"
     ]
    }
   ],
   "source": [
    "import os\n",
    "import requests\n",
    "from bs4 import BeautifulSoup\n",
    "from urllib.parse import urljoin\n",
    "from tqdm import tqdm\n",
    "\n",
    "# Set up search queries and folder names\n",
    "categories = {\n",
    "    \"nature\": \"nature landscape\",\n",
    "    \"city\": \"city landscape\"\n",
    "}\n",
    "\n",
    "# Create directories for images\n",
    "for category in categories.keys():\n",
    "    os.makedirs(category, exist_ok=True)\n",
    "\n",
    "# Function to download image\n",
    "def download_image(url, folder, count):\n",
    "    try:\n",
    "        response = requests.get(url, timeout=10)\n",
    "        img_data = response.content\n",
    "        img_name = os.path.join(folder, f\"{count}.jpg\")\n",
    "        with open(img_name, \"wb\") as f:\n",
    "            f.write(img_data)\n",
    "        return True\n",
    "    except Exception as e:\n",
    "        print(f\"Failed to download {url}: {e}\")\n",
    "        return False\n",
    "\n",
    "# Function to scrape images\n",
    "def scrape_images(search_term, folder, num_images=30):\n",
    "    headers = {'User-Agent': 'Mozilla/5.0'}\n",
    "    search_url = f\"https://www.google.com/search?hl=en&tbm=isch&q={search_term}\"\n",
    "\n",
    "    # Get the page content\n",
    "    response = requests.get(search_url, headers=headers)\n",
    "    soup = BeautifulSoup(response.text, 'html.parser')\n",
    "\n",
    "    # Find all image elements in the page\n",
    "    img_elements = soup.find_all(\"img\")\n",
    "    img_urls = [img['src'] for img in img_elements if 'src' in img.attrs]\n",
    "\n",
    "    print(f\"Found {len(img_urls)} images for {search_term}\")\n",
    "\n",
    "    # Download images\n",
    "    count = 1\n",
    "    for img_url in tqdm(img_urls[:num_images]):\n",
    "        full_url = urljoin(search_url, img_url)\n",
    "        if download_image(full_url, folder, count):\n",
    "            count += 1\n",
    "\n",
    "# Scrape images for both categories\n",
    "for category, search_term in categories.items():\n",
    "    scrape_images(search_term, category, num_images=30)  # Adjust number of images\n",
    "\n",
    "print(\"Image scraping complete!\")\n"
   ]
  }
 ],
 "metadata": {
  "kernelspec": {
   "display_name": "myenv",
   "language": "python",
   "name": "python3"
  },
  "language_info": {
   "codemirror_mode": {
    "name": "ipython",
    "version": 3
   },
   "file_extension": ".py",
   "mimetype": "text/x-python",
   "name": "python",
   "nbconvert_exporter": "python",
   "pygments_lexer": "ipython3",
   "version": "3.12.9"
  }
 },
 "nbformat": 4,
 "nbformat_minor": 2
}
