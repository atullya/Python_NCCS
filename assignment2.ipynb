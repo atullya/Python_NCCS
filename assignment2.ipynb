{
 "cells": [
  {
   "cell_type": "code",
   "execution_count": 29,
   "metadata": {},
   "outputs": [
    {
     "name": "stdout",
     "output_type": "stream",
     "text": [
      "9\n"
     ]
    }
   ],
   "source": [
    "def findNumberOfWords(text):\n",
    "    splitted=text.split()\n",
    "    print(len(splitted))\n",
    "\n",
    "\n",
    "text='A Quick Brown Fox Jumps Over the Lazy Dog'\n",
    "findNumberOfWords(text)"
   ]
  },
  {
   "cell_type": "markdown",
   "metadata": {},
   "source": [
    "###  Write a function to find the number of words in the text given\n",
    "\n",
    "### Write a funciton to find the largest number in the given list\n",
    "\n",
    "\n",
    "### Write a function to find the number of apperance of each of the word\n",
    "\n",
    "### Write a function to find the longest word in the given text."
   ]
  },
  {
   "cell_type": "code",
   "execution_count": 9,
   "metadata": {},
   "outputs": [
    {
     "name": "stdout",
     "output_type": "stream",
     "text": [
      "The largest number is 4522\n"
     ]
    }
   ],
   "source": [
    "def findLargest(numList):\n",
    "    largest=numList[0]\n",
    "    for i in numList:\n",
    "        if(i>largest):\n",
    "            largest=i\n",
    "    print(\"The largest number is\",largest)\n",
    "        \n",
    "\n",
    "numList=[123,34,4522,56,76]\n",
    "findLargest(numList)"
   ]
  },
  {
   "cell_type": "code",
   "execution_count": null,
   "metadata": {},
   "outputs": [
    {
     "name": "stdout",
     "output_type": "stream",
     "text": [
      "The list of words is: ['the', 'full', 'form', 'of', 'the', 'full', 'form', 'is', 'the', 'full', 'form']\n",
      "{}\n",
      "'the' appears 3 times\n",
      "'full' appears 3 times\n",
      "'form' appears 3 times\n",
      "'of' appears 1 times\n",
      "'is' appears 1 times\n"
     ]
    }
   ],
   "source": [
    "def countWordOccurrences(text):\n",
    "   \n",
    "    res = text.split()\n",
    "    print(\"The list of words is:\", res)\n",
    "    \n",
    "   \n",
    "    word_count = {}\n",
    "    print(word_count)\n",
    "   \n",
    "    for word in res:\n",
    "        if word in word_count:\n",
    "            word_count[word] += 1\n",
    "        else:\n",
    "            word_count[word] = 1\n",
    "    \n",
    "    # Print each word and its count\n",
    "    for word, count in word_count.items():\n",
    "        print(f\"'{word}' appears {count} times\")\n",
    "\n",
    "# Test the function\n",
    "text = \"the full form of the full form is the full form\"\n",
    "countWordOccurrences(text)\n"
   ]
  },
  {
   "cell_type": "code",
   "execution_count": 51,
   "metadata": {},
   "outputs": [
    {
     "name": "stdout",
     "output_type": "stream",
     "text": [
      "A\n",
      "1\n",
      "the largest word is  14 and the word is bharadherohora\n"
     ]
    }
   ],
   "source": [
    "def findNumberOfWords(text):\n",
    "    splitted=text.split()\n",
    "    largestWord=len(splitted[0])\n",
    "    word=splitted[0]\n",
    "    print(word)\n",
    "    print(largestWord)\n",
    "    for i in splitted:\n",
    "        if(len(i)>largestWord):\n",
    "            largestWord=len(i)\n",
    "            word=i\n",
    "            \n",
    "\n",
    "    print(\"the largest word is \",largestWord, \"and the word is\" ,i)\n",
    "\n",
    "\n",
    "\n",
    "text='A QuickfoxBro Brown Fox Jumps Over the Lazy Dog bharadherohora'\n",
    "findNumberOfWords(text)"
   ]
  }
 ],
 "metadata": {
  "kernelspec": {
   "display_name": "base",
   "language": "python",
   "name": "python3"
  },
  "language_info": {
   "codemirror_mode": {
    "name": "ipython",
    "version": 3
   },
   "file_extension": ".py",
   "mimetype": "text/x-python",
   "name": "python",
   "nbconvert_exporter": "python",
   "pygments_lexer": "ipython3",
   "version": "3.12.7"
  }
 },
 "nbformat": 4,
 "nbformat_minor": 2
}
