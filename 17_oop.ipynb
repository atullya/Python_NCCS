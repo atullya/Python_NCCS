{
 "cells": [
  {
   "cell_type": "code",
   "execution_count": 12,
   "metadata": {},
   "outputs": [
    {
     "name": "stdout",
     "output_type": "stream",
     "text": [
      "Hello\n"
     ]
    }
   ],
   "source": [
    "print(\"Hello\")"
   ]
  },
  {
   "cell_type": "code",
   "execution_count": 13,
   "metadata": {},
   "outputs": [],
   "source": [
    "class Human:\n",
    "    # def __init__(self):\n",
    "    #     self.age=10\n",
    "    def __init__(self,age):\n",
    "        self.age=age\n",
    "    def __repr__(self) -> str:\n",
    "        return  f\"Human with age {self.age}\"\n",
    "\n",
    "        \n",
    "    def other_method(self):\n",
    "        print(f'value of age is {self.age}')\n",
    "        print(\"This isi the other method\")\n",
    "    def another_method(self):\n",
    "        self.other_method()\n",
    "\n",
    "# human=Human()\n",
    "human2=Human(23)\n",
    "# human.other_method()\n"
   ]
  },
  {
   "cell_type": "code",
   "execution_count": 14,
   "metadata": {},
   "outputs": [
    {
     "name": "stdout",
     "output_type": "stream",
     "text": [
      "value of age is 23\n",
      "This isi the other method\n"
     ]
    }
   ],
   "source": [
    "human2.age\n",
    "human2.other_method()"
   ]
  },
  {
   "cell_type": "code",
   "execution_count": null,
   "metadata": {},
   "outputs": [
    {
     "data": {
      "text/plain": [
       "<bound method Human.__repr__ of Human with age 23>"
      ]
     },
     "execution_count": 15,
     "metadata": {},
     "output_type": "execute_result"
    }
   ],
   "source": [
    "human2.__repr__"
   ]
  },
  {
   "cell_type": "markdown",
   "metadata": {},
   "source": [
    "###`Inheritance\n",
    "`"
   ]
  },
  {
   "cell_type": "markdown",
   "metadata": {},
   "source": [
    " - single Inheritance\n",
    " - Multilevel inheritance\n",
    " - multiple inheritance\n",
    " - hirarchial inheritance"
   ]
  },
  {
   "cell_type": "code",
   "execution_count": 23,
   "metadata": {},
   "outputs": [
    {
     "name": "stdout",
     "output_type": "stream",
     "text": [
      "18\n"
     ]
    }
   ],
   "source": [
    "#Single Inheritance\n",
    "class Parent:\n",
    "    def __init__(self,age):\n",
    "        self.age=age\n",
    "\n",
    "class Child(Parent):\n",
    "    def __init__(self,name,age):\n",
    "        # super().__init__(age)\n",
    "        Parent.__init__(self,age)\n",
    "        self.name=name\n",
    "\n",
    "child =Child('abc',18)\n",
    "print(child.age)\n",
    "\n",
    "\n",
    "\n",
    "        "
   ]
  },
  {
   "cell_type": "code",
   "execution_count": 24,
   "metadata": {},
   "outputs": [
    {
     "data": {
      "text/plain": [
       "'atullya is Hero'"
      ]
     },
     "execution_count": 24,
     "metadata": {},
     "output_type": "execute_result"
    }
   ],
   "source": [
    "#multilevel inheritance\n",
    "class GrandFather:\n",
    "    def __init__(self,name):\n",
    "        self.name=name\n",
    "class Father(GrandFather):\n",
    "    def __init__(self, name):\n",
    "        super().__init__(name)\n",
    "\n",
    "class Child(Father):\n",
    "    def __init__(self, name):\n",
    "        super().__init__(name)\n",
    "\n",
    "child=Child('atullya is Hero')\n",
    "child.name"
   ]
  },
  {
   "cell_type": "code",
   "execution_count": null,
   "metadata": {},
   "outputs": [],
   "source": [
    "#multiple Inheritance\n",
    "class Father:\n",
    "    def __init__(self,father_name):\n",
    "        self.father_name=father_name\n",
    "\n",
    "class Mother:\n",
    "    def __init__(self,mother_name):\n",
    "        self.mother_name=mother_name\n",
    "class Child(Father,Mother):\n",
    "    def __init__(self,child_name,father_name,mother_name):\n",
    "        Father.__init__(self,father_name)\n",
    "        Mother.__init__(self,mother_name)\n",
    "        self.child_name=child_name\n",
    "child=Child('a','b','c'\n",
    "            )"
   ]
  }
 ],
 "metadata": {
  "kernelspec": {
   "display_name": "base",
   "language": "python",
   "name": "python3"
  },
  "language_info": {
   "codemirror_mode": {
    "name": "ipython",
    "version": 3
   },
   "file_extension": ".py",
   "mimetype": "text/x-python",
   "name": "python",
   "nbconvert_exporter": "python",
   "pygments_lexer": "ipython3",
   "version": "3.12.7"
  }
 },
 "nbformat": 4,
 "nbformat_minor": 2
}
