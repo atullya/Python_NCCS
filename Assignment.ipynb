{
 "cells": [
  {
   "cell_type": "code",
   "execution_count": null,
   "metadata": {},
   "outputs": [],
   "source": [
    "def count_vowels(s):\n",
    "    vowels = ['a','e','i','o','u']\n",
    "    vowelCount = 0\n",
    "    for i in s:\n",
    "        if i.lower() in vowels:\n",
    "            vowelCount += 1\n",
    "    return vowelCount\n",
    "\n",
    "# Example usage:\n",
    "print(count_vowels(\"hello world\"))"
   ]
  },
  {
   "cell_type": "code",
   "execution_count": 1,
   "metadata": {},
   "outputs": [
    {
     "name": "stdout",
     "output_type": "stream",
     "text": [
      "{'a': 0, 'e': 1, 'i': 0, 'o': 2, 'u': 0, 'A': 0, 'E': 0, 'I': 0, 'O': 0, 'U': 0}\n"
     ]
    }
   ],
   "source": [
    "def count_vowels(s):\n",
    "    vowels = {'a':0,'e':0,'i':0,'o':0,'u':0,\n",
    "              'A':0,'E':0,'I':0,'O':0,'U':0}\n",
    "    for i in s:\n",
    "        if i in vowels:\n",
    "            vowels[i] += 1\n",
    "    return vowels\n",
    "\n",
    "# Example usage:\n",
    "print(count_vowels(\"hello world\"))"
   ]
  }
 ],
 "metadata": {
  "kernelspec": {
   "display_name": "base",
   "language": "python",
   "name": "python3"
  },
  "language_info": {
   "codemirror_mode": {
    "name": "ipython",
    "version": 3
   },
   "file_extension": ".py",
   "mimetype": "text/x-python",
   "name": "python",
   "nbconvert_exporter": "python",
   "pygments_lexer": "ipython3",
   "version": "3.12.7"
  }
 },
 "nbformat": 4,
 "nbformat_minor": 2
}
